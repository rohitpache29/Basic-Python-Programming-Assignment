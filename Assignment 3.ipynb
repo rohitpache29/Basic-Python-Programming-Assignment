{
 "cells": [
  {
   "cell_type": "markdown",
   "id": "1c718cda",
   "metadata": {},
   "source": [
    "## Assignment No. 03"
   ]
  },
  {
   "cell_type": "markdown",
   "id": "e88a2f60",
   "metadata": {},
   "source": [
    "### 1. Why are functions advantageous to have in your programs?"
   ]
  },
  {
   "cell_type": "markdown",
   "id": "95efa23d",
   "metadata": {},
   "source": [
    "It helps to divide the large programs into small groups so that we can read the code, and debug the program faster and better. Python Functions stop us from writing the same logic various times. We can bind the logic in one def and then call the same over and over. "
   ]
  },
  {
   "cell_type": "markdown",
   "id": "6d4df034",
   "metadata": {},
   "source": [
    "### 2. When does the code in a function run: when it is specified or when it is called?"
   ]
  },
  {
   "cell_type": "markdown",
   "id": "170e9d3f",
   "metadata": {},
   "source": [
    "The code in a function executes when the function is called, not when the function is specified."
   ]
  },
  {
   "cell_type": "markdown",
   "id": "233ed0dd",
   "metadata": {},
   "source": [
    "### 3. What statement creates a function?"
   ]
  },
  {
   "cell_type": "markdown",
   "id": "1e26c374",
   "metadata": {},
   "source": [
    "def function creates a funtion \n",
    "e.g.  def test():\n",
    "      --------\n",
    "      --------\n",
    "      --------\n",
    "      return value"
   ]
  },
  {
   "cell_type": "markdown",
   "id": "6df8bf50",
   "metadata": {},
   "source": [
    "### 4. What is the difference between a function and a function call?"
   ]
  },
  {
   "cell_type": "markdown",
   "id": "e1cc205a",
   "metadata": {},
   "source": [
    "A function is a block of code that does a particular operation and returns a result. It usually accepts inputs as parameters and returns a result. The parameters are not mandatory. A function call is the code used to pass control to a function."
   ]
  },
  {
   "cell_type": "markdown",
   "id": "f2f3a57c",
   "metadata": {},
   "source": [
    "### 5. How many global scopes are there in a Python program? How many local scopes?"
   ]
  },
  {
   "cell_type": "markdown",
   "id": "12ad064e",
   "metadata": {},
   "source": [
    "there is a one global scope in python program and in local scopes is created whenever function called"
   ]
  },
  {
   "cell_type": "markdown",
   "id": "2f01b6c1",
   "metadata": {},
   "source": [
    "### 6. What happens to variables in a local scope when the function call returns?"
   ]
  },
  {
   "cell_type": "markdown",
   "id": "03d2e012",
   "metadata": {},
   "source": [
    "when a function return, the local scope is destroyed,and all the variables init are forgotten"
   ]
  },
  {
   "cell_type": "markdown",
   "id": "7ab01baa",
   "metadata": {},
   "source": [
    "### 7 What is the concept of a return value? Is it possible to have a return value in an expression?"
   ]
  },
  {
   "cell_type": "markdown",
   "id": "68d6b8a3",
   "metadata": {},
   "source": [
    "A return is a value that a function returns to the calling script or function when it completes its task\n"
   ]
  },
  {
   "cell_type": "markdown",
   "id": "4e34040d",
   "metadata": {},
   "source": [
    "### 8. If a function does not have a return statement, what is the return value of a call to that function?"
   ]
  },
  {
   "cell_type": "markdown",
   "id": "3add6e3c",
   "metadata": {},
   "source": [
    "for that function its return None "
   ]
  },
  {
   "cell_type": "markdown",
   "id": "65092472",
   "metadata": {},
   "source": [
    "### 9. How do you make a function variable refer to the global variable?"
   ]
  },
  {
   "cell_type": "markdown",
   "id": "cc5445f7",
   "metadata": {},
   "source": [
    "If you want to refer to a global variable in a function, you can use the global keyword to declare which variables are global."
   ]
  },
  {
   "cell_type": "markdown",
   "id": "7bdfe845",
   "metadata": {},
   "source": [
    "### 10. What is the data type of None?"
   ]
  },
  {
   "cell_type": "markdown",
   "id": "047699e0",
   "metadata": {},
   "source": [
    "The data type None is Nonetype"
   ]
  },
  {
   "cell_type": "markdown",
   "id": "61247ce5",
   "metadata": {},
   "source": [
    "### 11. What does the sentence import areallyourpetsnamederic do?"
   ]
  },
  {
   "cell_type": "markdown",
   "id": "e3524bd4",
   "metadata": {},
   "source": [
    " That import statement imports a module named areallyourpetsnamederic."
   ]
  },
  {
   "cell_type": "markdown",
   "id": "4f943b79",
   "metadata": {},
   "source": [
    "### 12. If you had a bacon() feature in a spam module, what would you call it after importing spam?"
   ]
  },
  {
   "cell_type": "markdown",
   "id": "ef990515",
   "metadata": {},
   "source": [
    "This function can be called with spam. bacon()."
   ]
  },
  {
   "cell_type": "markdown",
   "id": "9be28339",
   "metadata": {},
   "source": [
    "### 13. What can you do to save a programme from crashing if it encounters an error?"
   ]
  },
  {
   "cell_type": "markdown",
   "id": "f3bdaecf",
   "metadata": {},
   "source": [
    " we have moved our code inside a try and except statement. Try running the program and it should throw an error message instead of crashing the program"
   ]
  },
  {
   "cell_type": "markdown",
   "id": "e61100f4",
   "metadata": {},
   "source": [
    "### 14. What is the purpose of the try clause? What is the purpose of the except clause?"
   ]
  },
  {
   "cell_type": "markdown",
   "id": "ec082968",
   "metadata": {},
   "source": [
    "The code that could potentially cause an error goes in the try clause. The code that executes if an error happens goes in the except clause."
   ]
  },
  {
   "cell_type": "code",
   "execution_count": null,
   "id": "045fed09",
   "metadata": {},
   "outputs": [],
   "source": []
  }
 ],
 "metadata": {
  "kernelspec": {
   "display_name": "Python 3 (ipykernel)",
   "language": "python",
   "name": "python3"
  },
  "language_info": {
   "codemirror_mode": {
    "name": "ipython",
    "version": 3
   },
   "file_extension": ".py",
   "mimetype": "text/x-python",
   "name": "python",
   "nbconvert_exporter": "python",
   "pygments_lexer": "ipython3",
   "version": "3.9.7"
  }
 },
 "nbformat": 4,
 "nbformat_minor": 5
}
