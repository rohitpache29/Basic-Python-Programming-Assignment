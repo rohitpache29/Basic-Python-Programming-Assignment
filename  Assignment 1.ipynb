{
 "cells": [
  {
   "cell_type": "markdown",
   "id": "fa5ae468",
   "metadata": {},
   "source": [
    "## Assignment 1"
   ]
  },
  {
   "cell_type": "markdown",
   "id": "47f8de2f",
   "metadata": {},
   "source": [
    "### 1. In the below elements which of them are values or an expression? eg:- values can beinteger or string and expressions will be mathematical operators."
   ]
  },
  {
   "cell_type": "markdown",
   "id": "a1ebf241",
   "metadata": {},
   "source": [
    " * _____expression\n",
    "'hello'____value\n",
    "  -87.8____value\n",
    "     - ____expression\n",
    "     /_____expression\n",
    "     +_____expresion\n",
    "     6_____value"
   ]
  },
  {
   "cell_type": "markdown",
   "id": "ca5cf92b",
   "metadata": {},
   "source": [
    "### 2. What is the difference between string and variable?"
   ]
  },
  {
   "cell_type": "markdown",
   "id": "beee3212",
   "metadata": {},
   "source": [
    "string   - In string we can write our program only in alfa.string is wriiten in quotes such as single or double(\"''\")\n",
    "variable -variable is where we can store a data. The name is always contain alpha such as name,_name and its doesnt written               numeric value in starting such as 454_name"
   ]
  },
  {
   "cell_type": "markdown",
   "id": "bd0d98af",
   "metadata": {},
   "source": [
    "### 3. Describe three different data types."
   ]
  },
  {
   "cell_type": "markdown",
   "id": "9d4633bc",
   "metadata": {},
   "source": [
    "integer- in integer we can take value as in numeric form such like> 4542,84,484\n",
    "float  - in we can take only decimal values such as >4521.4,44.88,145.8478\n",
    "complex - in complex we can take real and imaginary parts such as >45.9j"
   ]
  },
  {
   "cell_type": "markdown",
   "id": "b0305f98",
   "metadata": {},
   "source": [
    "### 4. What is an expression made up of? What do all expressions do?"
   ]
  },
  {
   "cell_type": "markdown",
   "id": "da1be9ad",
   "metadata": {},
   "source": [
    "expression is a combination of operator and vales. for exmapple 25+1 .25 and 1 is an integer and + symbol is mathematical operator"
   ]
  },
  {
   "cell_type": "markdown",
   "id": "e3680b0c",
   "metadata": {},
   "source": [
    "### 5. This assignment statements, like spam = 10. What is the difference between anexpression and a statement?"
   ]
  },
  {
   "cell_type": "markdown",
   "id": "ea2a402e",
   "metadata": {},
   "source": [
    "expression is a combination of operator and values. statement is just like a command that python interpreter execute like print. print(\"\")"
   ]
  },
  {
   "cell_type": "markdown",
   "id": "3c4d62fe",
   "metadata": {},
   "source": [
    "### 6. After running the following code, what does the variable bacon contain?bacon= 22\n",
    "\n"
   ]
  },
  {
   "cell_type": "code",
   "execution_count": 3,
   "id": "ab8e3ccf",
   "metadata": {},
   "outputs": [
    {
     "data": {
      "text/plain": [
       "23"
      ]
     },
     "execution_count": 3,
     "metadata": {},
     "output_type": "execute_result"
    }
   ],
   "source": [
    "bacon = 22\n",
    "bacon+1 #the final answer is 23\n"
   ]
  },
  {
   "cell_type": "markdown",
   "id": "d8528a62",
   "metadata": {},
   "source": [
    "### 7. What should the values of the following two terms be?"
   ]
  },
  {
   "cell_type": "code",
   "execution_count": 6,
   "id": "ec2ed4ab",
   "metadata": {},
   "outputs": [
    {
     "data": {
      "text/plain": [
       "'spamspamspam'"
      ]
     },
     "execution_count": 6,
     "metadata": {},
     "output_type": "execute_result"
    }
   ],
   "source": [
    "'spam'+'spamspam'"
   ]
  },
  {
   "cell_type": "code",
   "execution_count": 7,
   "id": "c47db8b3",
   "metadata": {},
   "outputs": [
    {
     "data": {
      "text/plain": [
       "'spamspamspam'"
      ]
     },
     "execution_count": 7,
     "metadata": {},
     "output_type": "execute_result"
    }
   ],
   "source": [
    "'spam'*3"
   ]
  },
  {
   "cell_type": "markdown",
   "id": "1b165006",
   "metadata": {},
   "source": [
    "### 8. Why is eggs a valid variable name while 100 is invalid?"
   ]
  },
  {
   "cell_type": "markdown",
   "id": "0b0e2cc5",
   "metadata": {},
   "source": [
    "we dont take numeric vales as variable in starting we only take alpha vales such as eggs, name and e100, eggs100 is valid."
   ]
  },
  {
   "cell_type": "markdown",
   "id": "f115cde8",
   "metadata": {},
   "source": [
    "### 9. What three functions can be used to get the integer, floating-point number, or stringversion of a value?"
   ]
  },
  {
   "cell_type": "markdown",
   "id": "a550d09f",
   "metadata": {},
   "source": [
    "int() \n",
    "float() we take only decimal values in it.\n",
    "str() "
   ]
  },
  {
   "cell_type": "markdown",
   "id": "509f8326",
   "metadata": {},
   "source": [
    "### 10. Why does this expression cause an error? How can you fix it?"
   ]
  },
  {
   "cell_type": "markdown",
   "id": "d228d9b4",
   "metadata": {},
   "source": [
    "\n",
    "\n",
    "'i have eaten '+99+'burritos'\n",
    "\n",
    "\n",
    "in this case 99 is an interger values and can take string with integer values. if we have to concatenate it we need to do tycasting such like that str(99) "
   ]
  }
 ],
 "metadata": {
  "kernelspec": {
   "display_name": "Python 3 (ipykernel)",
   "language": "python",
   "name": "python3"
  },
  "language_info": {
   "codemirror_mode": {
    "name": "ipython",
    "version": 3
   },
   "file_extension": ".py",
   "mimetype": "text/x-python",
   "name": "python",
   "nbconvert_exporter": "python",
   "pygments_lexer": "ipython3",
   "version": "3.9.7"
  }
 },
 "nbformat": 4,
 "nbformat_minor": 5
}
