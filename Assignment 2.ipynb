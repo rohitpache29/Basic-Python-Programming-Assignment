{
 "cells": [
  {
   "cell_type": "markdown",
   "id": "f413a528",
   "metadata": {},
   "source": [
    "### 1)What are the two values of the boolean data type? How do write them\n",
    "-> True and False these two values are the boolean data type. A boolean data type is declared with the bool keyboard when the value is returned, True=1,and False=0. While we using this data type we have use capital T and F with the rest of word in lowercase"
   ]
  },
  {
   "cell_type": "code",
   "execution_count": 3,
   "id": "21b4f336",
   "metadata": {},
   "outputs": [
    {
     "name": "stdout",
     "output_type": "stream",
     "text": [
      "<class 'bool'>\n",
      "<class 'bool'>\n"
     ]
    }
   ],
   "source": [
    "R = True\n",
    "P = False\n",
    "print(type(R))\n",
    "print(type(P))"
   ]
  },
  {
   "cell_type": "markdown",
   "id": "142b398e",
   "metadata": {},
   "source": [
    "### 2)What are the three diffrent types of boolean operators?\n",
    "-> AND,OR and NOT We use these three boolean operators "
   ]
  },
  {
   "cell_type": "code",
   "execution_count": 5,
   "id": "83c513c3",
   "metadata": {},
   "outputs": [
    {
     "name": "stdout",
     "output_type": "stream",
     "text": [
      "True\n",
      "True\n",
      "False\n"
     ]
    }
   ],
   "source": [
    "R = 500\n",
    "P = 100\n",
    "print(R>200 and P>50)\n",
    "print(R>1000 or P>50)\n",
    "print(not(R>100))"
   ]
  },
  {
   "cell_type": "markdown",
   "id": "d75b2281",
   "metadata": {},
   "source": [
    "### 3)Make a list of each Boolean operator's truth tables (i.e. every possible combination of Boolean values for the operator and what it evaluate ).\n",
    "->  AND operator=  R       P       R^P\n",
    "                  True    True    True\n",
    "                  True    False   False\n",
    "                  False   True    false\n",
    "                  False   False   false\n",
    "                  \n",
    "    OR operator =  R       P       R+P\n",
    "                  True    True    True\n",
    "                  True    False   True\n",
    "                  False   True    True \n",
    "                  False   False   false\n",
    "                  \n",
    "    NOR operator   R       P       R.P\n",
    "                  True    True    False\n",
    "                  True    False   False\n",
    "                  False   True    False\n",
    "                  False   False   True\n",
    "                              "
   ]
  },
  {
   "cell_type": "markdown",
   "id": "8664d03d",
   "metadata": {},
   "source": [
    "### 4) What are the values of the following expressions?\n",
    "(5 > 4) and (3 == 5)\n",
    "not (5 > 4)\n",
    "(5 > 4) or (3 == 5)\n",
    "not ((5 > 4) or (3 == 5))\n",
    "(True and True) and (True == False)\n",
    "(not False) or (not True)\n"
   ]
  },
  {
   "cell_type": "code",
   "execution_count": 16,
   "id": "88482018",
   "metadata": {},
   "outputs": [
    {
     "name": "stdout",
     "output_type": "stream",
     "text": [
      "False\n",
      "False\n",
      "True\n",
      "False\n",
      "False\n",
      "True\n"
     ]
    }
   ],
   "source": [
    "print((5>4) and (3==5))\n",
    "print(not(5>4))\n",
    "print((5>4)or(3==5))\n",
    "print(not((5>4)or(3==5)))\n",
    "print((True and True)and(True==False))\n",
    "print((not False)or(not True))"
   ]
  },
  {
   "cell_type": "markdown",
   "id": "d00d243f",
   "metadata": {},
   "source": [
    "### 5)What are the six comparison operators?\n",
    "-> the six camparison operators are as follow:\n",
    "==,>,<,!=,<=,=>"
   ]
  },
  {
   "cell_type": "markdown",
   "id": "c49df2ea",
   "metadata": {},
   "source": [
    "### 6) How do you tell the difference between the equal to and assignment operators?Describe a condition and when you would use one.\n",
    "Ans -> == it is the equal to operator that compares two values and evaluates to a boolean, while = that assignment operator that stores a value in a variable."
   ]
  },
  {
   "cell_type": "code",
   "execution_count": 17,
   "id": "71351b3f",
   "metadata": {},
   "outputs": [
    {
     "name": "stdout",
     "output_type": "stream",
     "text": [
      "True\n"
     ]
    }
   ],
   "source": [
    "a=5\n",
    "if a == 5:\n",
    "    print(a==5)"
   ]
  },
  {
   "cell_type": "markdown",
   "id": "95b2b550",
   "metadata": {},
   "source": [
    "### 7) Identify the three blocks in this code:\n",
    "spam = 0\n",
    "if spam == 10:\n",
    "print('eggs')\n",
    "if spam > 5:\n",
    "print('bacon')\n",
    "else:\n",
    "print('ham')\n",
    "print('spam')\n",
    "print('spam')\n",
    "\n",
    "Ans-> In python, code block refers to a collection of code that is the same block or indent. this is most commenly found in classes, functions,and loops."
   ]
  },
  {
   "cell_type": "code",
   "execution_count": 18,
   "id": "7ef2a3ec",
   "metadata": {},
   "outputs": [
    {
     "name": "stdout",
     "output_type": "stream",
     "text": [
      "ham\n",
      "spam\n",
      "spam\n"
     ]
    }
   ],
   "source": [
    "spam = 0\n",
    "if spam == 10:\n",
    "    print(\"eggs\")\n",
    "if spam > 5:\n",
    "    print(\"bacon\")\n",
    "else:\n",
    "    print(\"ham\")\n",
    "    print(\"spam\")\n",
    "    print(\"spam\")"
   ]
  },
  {
   "cell_type": "markdown",
   "id": "af44193c",
   "metadata": {},
   "source": [
    "### 8)Write code that prints Hello if 1 is stored in spam, prints Howdy if 2 is stored in spam, and prints Greetings! if anything else is stored in spam.\n",
    "Ans-> "
   ]
  },
  {
   "cell_type": "code",
   "execution_count": 25,
   "id": "e5ff472b",
   "metadata": {},
   "outputs": [],
   "source": [
    "def rohit(spam):\n",
    "    if spam == 1:\n",
    "        print(\"hello\")\n",
    "    elif spam == 2:\n",
    "        print(\"howdy\")\n",
    "    else:\n",
    "        print(\"Greetings!\")"
   ]
  },
  {
   "cell_type": "code",
   "execution_count": 28,
   "id": "7e40d3d2",
   "metadata": {},
   "outputs": [
    {
     "name": "stdout",
     "output_type": "stream",
     "text": [
      "hello\n",
      "howdy\n",
      "Greetings!\n"
     ]
    }
   ],
   "source": [
    "rohit(1)\n",
    "rohit(2)\n",
    "rohit(3)"
   ]
  },
  {
   "cell_type": "markdown",
   "id": "5bbb8e98",
   "metadata": {},
   "source": [
    "### 9)If your programme is stuck in an endless loop, what keys you’ll press?\n",
    "Ans->\n",
    "     in this case press Ctrl - C to stop a program which got stuck ia an infinite loop."
   ]
  },
  {
   "cell_type": "markdown",
   "id": "805e8acf",
   "metadata": {},
   "source": [
    "### 10 How can you tell the difference between break and continue?"
   ]
  },
  {
   "cell_type": "markdown",
   "id": "3ee3fcc1",
   "metadata": {},
   "source": [
    "\n",
    "Ans->\n",
    "     The main difference between break and continue statement is that when break keyword is encountered, it will exit the loop. In case of continue keyword, the current iteration that is running will be stopped, and it will proceed with the next iteration."
   ]
  },
  {
   "cell_type": "markdown",
   "id": "4c7897a0",
   "metadata": {},
   "source": [
    "### 11)In a for loop, what is the difference between range(10), range(0, 10), and range(0, 10, 1)?\n",
    "Ans ->\n",
    "      1.The range(10) call range from 0 to 9 (but not inclede 10 it is a upper bound)\n",
    "      2.The range(0,10) in this case the loop to start at 0.\n",
    "      3.The range(0,10,1) in this case the range is (0,10) but in between range the loop willincrese the variable by 1 on           each iteration."
   ]
  },
  {
   "cell_type": "markdown",
   "id": "a1b17a00",
   "metadata": {},
   "source": [
    "### 12)Write a short program that prints the numbers 1 to 10 using a for loop. Then write an equivalent program that prints the numbers 1 to 10 using a while loop.\n",
    "Ans->\n"
   ]
  },
  {
   "cell_type": "code",
   "execution_count": 36,
   "id": "1e514844",
   "metadata": {},
   "outputs": [
    {
     "name": "stdout",
     "output_type": "stream",
     "text": [
      "1\n",
      "2\n",
      "3\n",
      "4\n",
      "5\n",
      "6\n",
      "7\n",
      "8\n",
      "9\n",
      "10\n",
      "1\n",
      "2\n",
      "3\n",
      "4\n",
      "5\n",
      "6\n",
      "7\n",
      "8\n",
      "9\n",
      "10\n"
     ]
    }
   ],
   "source": [
    "#while loop.\n",
    "i = 1\n",
    "while (10>=i):\n",
    "    print(i)\n",
    "    i=i+1\n",
    "    \n",
    "#for loop    \n",
    "for i in range(1,11):\n",
    "    print(i)\n"
   ]
  },
  {
   "cell_type": "markdown",
   "id": "f8434d37",
   "metadata": {},
   "source": [
    "### 13)If you had a function named bacon() inside a module named spam, how would you call it after importing spam?\n",
    "Ans ->\n",
    "      This function called with spam.bacon()"
   ]
  },
  {
   "cell_type": "code",
   "execution_count": null,
   "id": "b75cb24b",
   "metadata": {},
   "outputs": [],
   "source": []
  }
 ],
 "metadata": {
  "kernelspec": {
   "display_name": "Python 3 (ipykernel)",
   "language": "python",
   "name": "python3"
  },
  "language_info": {
   "codemirror_mode": {
    "name": "ipython",
    "version": 3
   },
   "file_extension": ".py",
   "mimetype": "text/x-python",
   "name": "python",
   "nbconvert_exporter": "python",
   "pygments_lexer": "ipython3",
   "version": "3.9.7"
  }
 },
 "nbformat": 4,
 "nbformat_minor": 5
}
